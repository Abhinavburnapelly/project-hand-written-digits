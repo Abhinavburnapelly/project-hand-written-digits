{
 "cells": [
  {
   "cell_type": "code",
   "execution_count": 1,
   "metadata": {},
   "outputs": [],
   "source": [
    "from tensorflow import keras;\n",
    "import tensorflow as tf;"
   ]
  },
  {
   "cell_type": "code",
   "execution_count": 2,
   "metadata": {},
   "outputs": [
    {
     "name": "stdout",
     "output_type": "stream",
     "text": [
      "Model: \"sequential_5\"\n",
      "_________________________________________________________________\n",
      " Layer (type)                Output Shape              Param #   \n",
      "=================================================================\n",
      " conv2d_4 (Conv2D)           (None, 26, 26, 64)        640       \n",
      "                                                                 \n",
      " activation_6 (Activation)   (None, 26, 26, 64)        0         \n",
      "                                                                 \n",
      " max_pooling2d_3 (MaxPooling  (None, 13, 13, 64)       0         \n",
      " 2D)                                                             \n",
      "                                                                 \n",
      " conv2d_5 (Conv2D)           (None, 11, 11, 64)        36928     \n",
      "                                                                 \n",
      " activation_7 (Activation)   (None, 11, 11, 64)        0         \n",
      "                                                                 \n",
      " max_pooling2d_4 (MaxPooling  (None, 5, 5, 64)         0         \n",
      " 2D)                                                             \n",
      "                                                                 \n",
      " conv2d_6 (Conv2D)           (None, 3, 3, 64)          36928     \n",
      "                                                                 \n",
      " activation_8 (Activation)   (None, 3, 3, 64)          0         \n",
      "                                                                 \n",
      " max_pooling2d_5 (MaxPooling  (None, 1, 1, 64)         0         \n",
      " 2D)                                                             \n",
      "                                                                 \n",
      " flatten_3 (Flatten)         (None, 64)                0         \n",
      "                                                                 \n",
      " dense_9 (Dense)             (None, 64)                4160      \n",
      "                                                                 \n",
      " activation_9 (Activation)   (None, 64)                0         \n",
      "                                                                 \n",
      " dense_10 (Dense)            (None, 32)                2080      \n",
      "                                                                 \n",
      " activation_10 (Activation)  (None, 32)                0         \n",
      "                                                                 \n",
      " dense_11 (Dense)            (None, 10)                330       \n",
      "                                                                 \n",
      " activation_11 (Activation)  (None, 10)                0         \n",
      "                                                                 \n",
      "=================================================================\n",
      "Total params: 81,066\n",
      "Trainable params: 81,066\n",
      "Non-trainable params: 0\n",
      "_________________________________________________________________\n"
     ]
    }
   ],
   "source": [
    "model2=keras.models.load_model(\"model_digits.model\")\n",
    "model2.summary()"
   ]
  },
  {
   "cell_type": "code",
   "execution_count": 3,
   "metadata": {},
   "outputs": [],
   "source": [
    "# import time\n",
    "# import cv2\n",
    "# from matplotlib import pyplot as plt\n",
    "# import numpy as np\n",
    "# camera=cv2.VideoCapture(\"new.mp4\")\n",
    "\n",
    "# text=\"some text\"\n",
    "# font=cv2.FONT_HERSHEY_PLAIN\n",
    "# font_scale=1.5\n",
    "# (text_width,text_heigh)=cv2.getTextSize(text,font,fontScale=font_scale,thickness=1)[0]\n",
    "\n",
    "# text_offset_x=10\n",
    "# text_offset_y=25\n",
    "# box_coordinates=((text_offset_x,text_offset_y),(text_offset_x+text_width+2,text_offset_y-text_heigh-2))\n",
    "# cntr=0\n",
    "\n",
    "    \n",
    "# while True:\n",
    "#     success,frame=camera.read()\n",
    "#     cntr+=1;\n",
    "#     if ((cntr%2)==0): \n",
    "#         (text_width,text_heigh)=cv2.getTextSize(text,font,fontScale=font_scale,thickness=1)[0]\n",
    "#         plt.imshow(frame)\n",
    "        \n",
    "#         gray=cv2.cvtColor(frame,cv2.COLOR_BGR2GRAY)\n",
    "#         resized=cv2.resize(gray,(28,28),interpolation=cv2.INTER_AREA)\n",
    "#         newing=keras.utils.normalize(resized,axis=1)\n",
    "#         newing=np.array(newing).reshape(-1,28,28,1)\n",
    "#         prediction=model2.predict(newing)\n",
    "#         status=np.argmax(prediction)\n",
    "#         print(status)\n",
    "#         print(type(status))\n",
    "        \n",
    "#         x1,y1,w1,h1=0,0,175,175\n",
    "        \n",
    "#         cv2.rectangle(frame,(x1,x1),(x1+w1,y1+h1),(0,60,0),-1)\n",
    "        \n",
    "#         cv2.putText(frame,status.astype(str),(x1+int(w1/2),y1+int(h1/2)),cv2.FONT_HERSHEY_SIMPLEX,0.7,(0,0,255),2)\n",
    "        \n",
    "        \n",
    "#         cv2.imshow(\"vidio\",frame)\n",
    "#         if cv2.waitKey(1) and 0xFF==ord('q'):\n",
    "#             break\n",
    "        \n"
   ]
  },
  {
   "cell_type": "code",
   "execution_count": 9,
   "metadata": {},
   "outputs": [
    {
     "name": "stdout",
     "output_type": "stream",
     "text": [
      "1/1 [==============================] - 2s 2s/step\n"
     ]
    },
    {
     "data": {
      "text/plain": [
       "3"
      ]
     },
     "execution_count": 9,
     "metadata": {},
     "output_type": "execute_result"
    },
    {
     "data": {
      "image/png": "[encoded data removed]",
      "text/plain": [
       "<Figure size 640x480 with 1 Axes>"
      ]
     },
     "metadata": {},
     "output_type": "display_data"
    }
   ],
   "source": [
    "import cv2;\n",
    "import matplotlib.pyplot as plt\n",
    "import numpy as np\n",
    "a=input(\"Enter the file name:\")\n",
    "path=\"img/\"+a\n",
    "\n",
    "img=cv2.imread(path)\n",
    "\n",
    "gray=cv2.cvtColor(img,cv2.COLOR_BGR2GRAY)\n",
    "plt.imshow(gray)\n",
    "\n",
    "resized=cv2.resize(gray,(28,28),interpolation=cv2.INTER_AREA)\n",
    "plt.imshow(resized)\n",
    "\n",
    "newing=keras.utils.normalize(resized,axis=1)\n",
    "newing=np.array(newing).reshape(-1,28,28,1)\n",
    "prediction=model2.predict(newing)\n",
    "np.argmax(prediction)"
   ]
  },
  {
   "cell_type": "code",
   "execution_count": null,
   "metadata": {},
   "outputs": [],
   "source": []
  },
  {
   "cell_type": "code",
   "execution_count": null,
   "metadata": {},
   "outputs": [],
   "source": []
  }
 ],
 "metadata": {
  "kernelspec": {
   "display_name": "Python 3",
   "language": "python",
   "name": "python3"
  },
  "language_info": {
   "codemirror_mode": {
    "name": "ipython",
    "version": 3
   },
   "file_extension": ".py",
   "mimetype": "text/x-python",
   "name": "python",
   "nbconvert_exporter": "python",
   "pygments_lexer": "ipython3",
   "version": "3.10.4"
  },
  "orig_nbformat": 4
 },
 "nbformat": 4,
 "nbformat_minor": 2
}
